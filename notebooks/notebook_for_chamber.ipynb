{
  "cells": [
    {
      "attachments": {},
      "cell_type": "markdown",
      "metadata": {
        "id": "tQ1r1bbb0yBv"
      },
      "source": [
        "# <img src=\"https://github.com/JuliaLang/julia-logo-graphics/raw/master/images/julia-logo-color.png\" height=\"100\" /> Notebook for Chamber.jl\n",
        "\n",
        "- Gihub: [Chamber.jl](https://github.com/brown-ccv/Chamber.jl)\n",
        "- This notebook is adapted from https://github.com/ageron/julia_notebooks.\n",
        "- About Google Colaboratory: [FAQ](https://research.google.com/colaboratory/faq.html)\n",
        "\n",
        "## Instructions\n",
        "1. Work on a copy of this notebook: _File_ > _Save a copy in Drive_ (you will need a Google account). Alternatively, you can download the notebook using _File_ > _Download .ipynb_, then upload it to [Colab](https://colab.research.google.com/).\n",
        "\n",
        "    <img src=\"images/instructions_1.png\" height=100/>\n",
        "2. Execute the following cell (click on it and press Ctrl+Enter) to install Julia, IJulia and other packages.\n",
        "\n",
        "    <img src=\"images/instructions_2.png\" height=120/>\n",
        "3. Reload this page (press Ctrl+R, or ⌘+R, or the F5 key) and continue to the next section.\n",
        "\n",
        "_Notes_:\n",
        "* If your Colab Runtime gets reset (e.g., due to inactivity), repeat steps 2 and 3.\n",
        "* It may need 15-20 minutes."
      ]
    },
    {
      "cell_type": "code",
      "execution_count": null,
      "metadata": {
        "cellView": "form",
        "id": "GIeFXS0F0zww"
      },
      "outputs": [],
      "source": [
        "#@title Install Julia and Chamber.jl\n",
        "%%shell\n",
        "set -e\n",
        "\n",
        "#---------------------------------------------------#\n",
        "JULIA_VERSION=\"1.8.2\"\n",
        "JULIA_PACKAGES=\"IJulia Chamber\"\n",
        "JULIA_NUM_THREADS=2\n",
        "#---------------------------------------------------#\n",
        "\n",
        "if [ -z `which julia` ]; then\n",
        "  # Install Julia\n",
        "  JULIA_VER=`cut -d '.' -f -2 <<< \"$JULIA_VERSION\"`\n",
        "  echo \"Installing Julia $JULIA_VERSION on the current Colab Runtime...\"\n",
        "  BASE_URL=\"https://julialang-s3.julialang.org/bin/linux/x64\"\n",
        "  URL=\"$BASE_URL/$JULIA_VER/julia-$JULIA_VERSION-linux-x86_64.tar.gz\"\n",
        "  wget -nv $URL -O /tmp/julia.tar.gz &> /dev/null # -nv means \"not verbose\"\n",
        "  tar -x -f /tmp/julia.tar.gz -C /usr/local --strip-components 1\n",
        "  rm /tmp/julia.tar.gz\n",
        "\n",
        "  # Install Packages\n",
        "  for PKG in `echo $JULIA_PACKAGES`; do\n",
        "    echo \"Installing Julia package $PKG...\"\n",
        "    julia -e 'using Pkg; pkg\"add '$PKG'; precompile;\"' &> /dev/null\n",
        "  done\n",
        "\n",
        "  # Install kernel and rename it to \"julia\"\n",
        "  echo \"Installing IJulia kernel...\"\n",
        "  julia -e 'using IJulia; IJulia.installkernel(\"julia\", env=Dict(\n",
        "      \"JULIA_NUM_THREADS\"=>\"'\"$JULIA_NUM_THREADS\"'\"))' &> /dev/null\n",
        "  KERNEL_DIR=`julia -e \"using IJulia; print(IJulia.kerneldir())\"`\n",
        "  KERNEL_NAME=`ls -d \"$KERNEL_DIR\"/julia*`\n",
        "  mv -f $KERNEL_NAME \"$KERNEL_DIR\"/julia  \n",
        "\n",
        "  echo ''\n",
        "  echo \"Successfully installed `julia -v`!\"\n",
        "  echo \"Please reload this page (press Ctrl+R, ⌘+R, or the F5 key) then\"\n",
        "  echo \"jump to the 'Checking the Installation' section.\"\n",
        "fi"
      ]
    },
    {
      "attachments": {},
      "cell_type": "markdown",
      "metadata": {
        "id": "-OS3Ac017T1i"
      },
      "source": [
        "## Checking the Installation\n",
        "The `versioninfo()` function should print your Julia version and some other info about the system:"
      ]
    },
    {
      "cell_type": "code",
      "execution_count": null,
      "metadata": {
        "id": "EEzvvzCl1i0F"
      },
      "outputs": [],
      "source": [
        "versioninfo()"
      ]
    },
    {
      "attachments": {},
      "cell_type": "markdown",
      "metadata": {
        "id": "Mb0UczSTnRd1"
      },
      "source": [
        "Check Julia package"
      ]
    },
    {
      "cell_type": "code",
      "execution_count": null,
      "metadata": {
        "id": "hapSzFZ6nQcB"
      },
      "outputs": [],
      "source": [
        "using Pkg\n",
        "Pkg.status()"
      ]
    },
    {
      "attachments": {},
      "cell_type": "markdown",
      "metadata": {
        "id": "ePA7q77xmJHM"
      },
      "source": [
        "## Try Chamber.jl"
      ]
    },
    {
      "attachments": {},
      "cell_type": "markdown",
      "metadata": {
        "id": "Whff2qukyD9G"
      },
      "source": [
        "### Using Chamber"
      ]
    },
    {
      "cell_type": "code",
      "execution_count": null,
      "metadata": {
        "id": "8yWgbzNCxd96"
      },
      "outputs": [],
      "source": [
        "using Chamber\n",
        "@doc chamber"
      ]
    },
    {
      "attachments": {},
      "cell_type": "markdown",
      "metadata": {
        "id": "Xhw99KnwskDF"
      },
      "source": [
        "* Please use `float` data type for the values of `end_time`, `log_volume_km3`, `InitialConc_H2O`, `InitialConc_CO2`, `log_vfr` and `depth`.\n",
        "* Prior to executing the `chamber` function, make sure to run `using Chamber`.\n",
        "* Verify output files by clicking the folder icon on the left sidebar.\n",
        "\n",
        "    <img src=\"images/instructions_3.png\" height=200/> <img src=\"images/instructions_4.png\" height=220/>"
      ]
    },
    {
      "attachments": {},
      "cell_type": "markdown",
      "metadata": {
        "id": "xFoE9csdxcye"
      },
      "source": [
        "### Example 1: Silicic case"
      ]
    },
    {
      "cell_type": "code",
      "execution_count": null,
      "metadata": {
        "colab": {
          "base_uri": "https://localhost:8080/",
          "height": 692
        },
        "id": "Y1cIYuiGOg7C",
        "outputId": "d486fc21-1403-4299-c70e-dbe55d490b3b"
      },
      "outputs": [
        {
          "name": "stdout",
          "output_type": "stream",
          "text": [
            "Output path: /content/202305081453\n",
            "number_of_data: 470\n"
          ]
        },
        {
          "data": {
            "text/html": [
              "<div><div style = \"float: left;\"><span>470×11 DataFrame</span></div><div style = \"float: right;\"><span style = \"font-style: italic;\">445 rows omitted</span></div><div style = \"clear: both;\"></div></div><div class = \"data-frame\" style = \"overflow-x: scroll;\"><table class = \"data-frame\" style = \"margin-bottom: 6px;\"><thead><tr class = \"header\"><th class = \"rowNumber\" style = \"font-weight: bold; text-align: right;\">Row</th><th style = \"text-align: left;\">time</th><th style = \"text-align: left;\">P+dP</th><th style = \"text-align: left;\">T</th><th style = \"text-align: left;\">eps_g</th><th style = \"text-align: left;\">V</th><th style = \"text-align: left;\">rho_m</th><th style = \"text-align: left;\">rho_x</th><th style = \"text-align: left;\">X_CO2</th><th style = \"text-align: left;\">total_mass</th><th style = \"text-align: left;\">total_mass_H2O</th><th style = \"text-align: left;\">total_mass_CO2</th></tr><tr class = \"subheader headerLastRow\"><th class = \"rowNumber\" style = \"font-weight: bold; text-align: right;\"></th><th title = \"Float64\" style = \"text-align: left;\">Float64</th><th title = \"Float64\" style = \"text-align: left;\">Float64</th><th title = \"Float64\" style = \"text-align: left;\">Float64</th><th title = \"Float64\" style = \"text-align: left;\">Float64</th><th title = \"Float64\" style = \"text-align: left;\">Float64</th><th title = \"Float64\" style = \"text-align: left;\">Float64</th><th title = \"Float64\" style = \"text-align: left;\">Float64</th><th title = \"Float64\" style = \"text-align: left;\">Float64</th><th title = \"Float64\" style = \"text-align: left;\">Float64</th><th title = \"Float64\" style = \"text-align: left;\">Float64</th><th title = \"Float64\" style = \"text-align: left;\">Float64</th></tr></thead><tbody><tr><td class = \"rowNumber\" style = \"font-weight: bold; text-align: right;\">1</td><td style = \"text-align: right;\">0.0</td><td style = \"text-align: right;\">2.1582e8</td><td style = \"text-align: right;\">1046.71</td><td style = \"text-align: right;\">0.00558159</td><td style = \"text-align: right;\">1.58489e9</td><td style = \"text-align: right;\">2400.0</td><td style = \"text-align: right;\">2600.0</td><td style = \"text-align: right;\">0.346043</td><td style = \"text-align: right;\">3.83394e12</td><td style = \"text-align: right;\">1.54039e11</td><td style = \"text-align: right;\">3.85098e9</td></tr><tr><td class = \"rowNumber\" style = \"font-weight: bold; text-align: right;\">2</td><td style = \"text-align: right;\">100000.0</td><td style = \"text-align: right;\">2.15824e8</td><td style = \"text-align: right;\">1046.71</td><td style = \"text-align: right;\">0.00558131</td><td style = \"text-align: right;\">1.58489e9</td><td style = \"text-align: right;\">2400.0</td><td style = \"text-align: right;\">2600.0</td><td style = \"text-align: right;\">0.34605</td><td style = \"text-align: right;\">3.83395e12</td><td style = \"text-align: right;\">1.54039e11</td><td style = \"text-align: right;\">3.85099e9</td></tr><tr><td class = \"rowNumber\" style = \"font-weight: bold; text-align: right;\">3</td><td style = \"text-align: right;\">7.62058e5</td><td style = \"text-align: right;\">2.15848e8</td><td style = \"text-align: right;\">1046.71</td><td style = \"text-align: right;\">0.0055795</td><td style = \"text-align: right;\">1.5849e9</td><td style = \"text-align: right;\">2400.01</td><td style = \"text-align: right;\">2600.01</td><td style = \"text-align: right;\">0.346101</td><td style = \"text-align: right;\">3.83397e12</td><td style = \"text-align: right;\">1.5404e11</td><td style = \"text-align: right;\">3.85101e9</td></tr><tr><td class = \"rowNumber\" style = \"font-weight: bold; text-align: right;\">4</td><td style = \"text-align: right;\">2.83015e6</td><td style = \"text-align: right;\">2.15924e8</td><td style = \"text-align: right;\">1046.71</td><td style = \"text-align: right;\">0.00557383</td><td style = \"text-align: right;\">1.58491e9</td><td style = \"text-align: right;\">2400.03</td><td style = \"text-align: right;\">2600.03</td><td style = \"text-align: right;\">0.346259</td><td style = \"text-align: right;\">3.83405e12</td><td style = \"text-align: right;\">1.54044e11</td><td style = \"text-align: right;\">3.85109e9</td></tr><tr><td class = \"rowNumber\" style = \"font-weight: bold; text-align: right;\">5</td><td style = \"text-align: right;\">4.89825e6</td><td style = \"text-align: right;\">2.16e8</td><td style = \"text-align: right;\">1046.71</td><td style = \"text-align: right;\">0.00556818</td><td style = \"text-align: right;\">1.58492e9</td><td style = \"text-align: right;\">2400.04</td><td style = \"text-align: right;\">2600.05</td><td style = \"text-align: right;\">0.346418</td><td style = \"text-align: right;\">3.83413e12</td><td style = \"text-align: right;\">1.54047e11</td><td style = \"text-align: right;\">3.85117e9</td></tr><tr><td class = \"rowNumber\" style = \"font-weight: bold; text-align: right;\">6</td><td style = \"text-align: right;\">6.96635e6</td><td style = \"text-align: right;\">2.16077e8</td><td style = \"text-align: right;\">1046.7</td><td style = \"text-align: right;\">0.00556253</td><td style = \"text-align: right;\">1.58493e9</td><td style = \"text-align: right;\">2400.06</td><td style = \"text-align: right;\">2600.07</td><td style = \"text-align: right;\">0.346576</td><td style = \"text-align: right;\">3.83421e12</td><td style = \"text-align: right;\">1.5405e11</td><td style = \"text-align: right;\">3.85125e9</td></tr><tr><td class = \"rowNumber\" style = \"font-weight: bold; text-align: right;\">7</td><td style = \"text-align: right;\">9.03444e6</td><td style = \"text-align: right;\">2.16153e8</td><td style = \"text-align: right;\">1046.7</td><td style = \"text-align: right;\">0.00555688</td><td style = \"text-align: right;\">1.58495e9</td><td style = \"text-align: right;\">2400.08</td><td style = \"text-align: right;\">2600.09</td><td style = \"text-align: right;\">0.346733</td><td style = \"text-align: right;\">3.83429e12</td><td style = \"text-align: right;\">1.54053e11</td><td style = \"text-align: right;\">3.85133e9</td></tr><tr><td class = \"rowNumber\" style = \"font-weight: bold; text-align: right;\">8</td><td style = \"text-align: right;\">1.33676e7</td><td style = \"text-align: right;\">2.16312e8</td><td style = \"text-align: right;\">1046.7</td><td style = \"text-align: right;\">0.00554509</td><td style = \"text-align: right;\">1.58497e9</td><td style = \"text-align: right;\">2400.12</td><td style = \"text-align: right;\">2600.13</td><td style = \"text-align: right;\">0.347064</td><td style = \"text-align: right;\">3.83445e12</td><td style = \"text-align: right;\">1.5406e11</td><td style = \"text-align: right;\">3.8515e9</td></tr><tr><td class = \"rowNumber\" style = \"font-weight: bold; text-align: right;\">9</td><td style = \"text-align: right;\">2.08499e7</td><td style = \"text-align: right;\">2.16588e8</td><td style = \"text-align: right;\">1046.69</td><td style = \"text-align: right;\">0.0055248</td><td style = \"text-align: right;\">1.58502e9</td><td style = \"text-align: right;\">2400.18</td><td style = \"text-align: right;\">2600.2</td><td style = \"text-align: right;\">0.347633</td><td style = \"text-align: right;\">3.83474e12</td><td style = \"text-align: right;\">1.54071e11</td><td style = \"text-align: right;\">3.85178e9</td></tr><tr><td class = \"rowNumber\" style = \"font-weight: bold; text-align: right;\">10</td><td style = \"text-align: right;\">2.83322e7</td><td style = \"text-align: right;\">2.16863e8</td><td style = \"text-align: right;\">1046.68</td><td style = \"text-align: right;\">0.00550461</td><td style = \"text-align: right;\">1.58506e9</td><td style = \"text-align: right;\">2400.25</td><td style = \"text-align: right;\">2600.27</td><td style = \"text-align: right;\">0.3482</td><td style = \"text-align: right;\">3.83502e12</td><td style = \"text-align: right;\">1.54083e11</td><td style = \"text-align: right;\">3.85207e9</td></tr><tr><td class = \"rowNumber\" style = \"font-weight: bold; text-align: right;\">11</td><td style = \"text-align: right;\">3.83322e7</td><td style = \"text-align: right;\">2.17231e8</td><td style = \"text-align: right;\">1046.67</td><td style = \"text-align: right;\">0.00547779</td><td style = \"text-align: right;\">1.58512e9</td><td style = \"text-align: right;\">2400.34</td><td style = \"text-align: right;\">2600.37</td><td style = \"text-align: right;\">0.348956</td><td style = \"text-align: right;\">3.83541e12</td><td style = \"text-align: right;\">1.54098e11</td><td style = \"text-align: right;\">3.85245e9</td></tr><tr><td class = \"rowNumber\" style = \"font-weight: bold; text-align: right;\">12</td><td style = \"text-align: right;\">4.83322e7</td><td style = \"text-align: right;\">2.17599e8</td><td style = \"text-align: right;\">1046.66</td><td style = \"text-align: right;\">0.00545114</td><td style = \"text-align: right;\">1.58518e9</td><td style = \"text-align: right;\">2400.43</td><td style = \"text-align: right;\">2600.46</td><td style = \"text-align: right;\">0.349708</td><td style = \"text-align: right;\">3.83579e12</td><td style = \"text-align: right;\">1.54113e11</td><td style = \"text-align: right;\">3.85283e9</td></tr><tr><td class = \"rowNumber\" style = \"font-weight: bold; text-align: right;\">13</td><td style = \"text-align: right;\">5.83322e7</td><td style = \"text-align: right;\">2.17967e8</td><td style = \"text-align: right;\">1046.65</td><td style = \"text-align: right;\">0.00542468</td><td style = \"text-align: right;\">1.58524e9</td><td style = \"text-align: right;\">2400.52</td><td style = \"text-align: right;\">2600.56</td><td style = \"text-align: right;\">0.350457</td><td style = \"text-align: right;\">3.83617e12</td><td style = \"text-align: right;\">1.54129e11</td><td style = \"text-align: right;\">3.85322e9</td></tr><tr><td style = \"text-align: right;\">&vellip;</td><td style = \"text-align: right;\">&vellip;</td><td style = \"text-align: right;\">&vellip;</td><td style = \"text-align: right;\">&vellip;</td><td style = \"text-align: right;\">&vellip;</td><td style = \"text-align: right;\">&vellip;</td><td style = \"text-align: right;\">&vellip;</td><td style = \"text-align: right;\">&vellip;</td><td style = \"text-align: right;\">&vellip;</td><td style = \"text-align: right;\">&vellip;</td><td style = \"text-align: right;\">&vellip;</td><td style = \"text-align: right;\">&vellip;</td></tr><tr><td class = \"rowNumber\" style = \"font-weight: bold; text-align: right;\">459</td><td style = \"text-align: right;\">2.8964e9</td><td style = \"text-align: right;\">2.20152e8</td><td style = \"text-align: right;\">1043.53</td><td style = \"text-align: right;\">0.00583096</td><td style = \"text-align: right;\">1.58727e9</td><td style = \"text-align: right;\">2401.12</td><td style = \"text-align: right;\">2601.21</td><td style = \"text-align: right;\">0.331989</td><td style = \"text-align: right;\">3.84734e12</td><td style = \"text-align: right;\">1.54578e11</td><td style = \"text-align: right;\">3.86444e9</td></tr><tr><td class = \"rowNumber\" style = \"font-weight: bold; text-align: right;\">460</td><td style = \"text-align: right;\">2.9064e9</td><td style = \"text-align: right;\">2.20514e8</td><td style = \"text-align: right;\">1043.52</td><td style = \"text-align: right;\">0.00580364</td><td style = \"text-align: right;\">1.58733e9</td><td style = \"text-align: right;\">2401.2</td><td style = \"text-align: right;\">2601.3</td><td style = \"text-align: right;\">0.332732</td><td style = \"text-align: right;\">3.84773e12</td><td style = \"text-align: right;\">1.54593e11</td><td style = \"text-align: right;\">3.86483e9</td></tr><tr><td class = \"rowNumber\" style = \"font-weight: bold; text-align: right;\">461</td><td style = \"text-align: right;\">2.9164e9</td><td style = \"text-align: right;\">2.20875e8</td><td style = \"text-align: right;\">1043.51</td><td style = \"text-align: right;\">0.0057765</td><td style = \"text-align: right;\">1.58739e9</td><td style = \"text-align: right;\">2401.29</td><td style = \"text-align: right;\">2601.4</td><td style = \"text-align: right;\">0.333473</td><td style = \"text-align: right;\">3.84811e12</td><td style = \"text-align: right;\">1.54608e11</td><td style = \"text-align: right;\">3.86521e9</td></tr><tr><td class = \"rowNumber\" style = \"font-weight: bold; text-align: right;\">462</td><td style = \"text-align: right;\">2.9264e9</td><td style = \"text-align: right;\">2.21236e8</td><td style = \"text-align: right;\">1043.5</td><td style = \"text-align: right;\">0.00574954</td><td style = \"text-align: right;\">1.58745e9</td><td style = \"text-align: right;\">2401.38</td><td style = \"text-align: right;\">2601.49</td><td style = \"text-align: right;\">0.33421</td><td style = \"text-align: right;\">3.84849e12</td><td style = \"text-align: right;\">1.54624e11</td><td style = \"text-align: right;\">3.86559e9</td></tr><tr><td class = \"rowNumber\" style = \"font-weight: bold; text-align: right;\">463</td><td style = \"text-align: right;\">2.9364e9</td><td style = \"text-align: right;\">2.21597e8</td><td style = \"text-align: right;\">1043.49</td><td style = \"text-align: right;\">0.00572277</td><td style = \"text-align: right;\">1.58751e9</td><td style = \"text-align: right;\">2401.46</td><td style = \"text-align: right;\">2601.59</td><td style = \"text-align: right;\">0.334944</td><td style = \"text-align: right;\">3.84887e12</td><td style = \"text-align: right;\">1.54639e11</td><td style = \"text-align: right;\">3.86598e9</td></tr><tr><td class = \"rowNumber\" style = \"font-weight: bold; text-align: right;\">464</td><td style = \"text-align: right;\">2.9464e9</td><td style = \"text-align: right;\">2.21957e8</td><td style = \"text-align: right;\">1043.48</td><td style = \"text-align: right;\">0.00569617</td><td style = \"text-align: right;\">1.58757e9</td><td style = \"text-align: right;\">2401.55</td><td style = \"text-align: right;\">2601.68</td><td style = \"text-align: right;\">0.335675</td><td style = \"text-align: right;\">3.84925e12</td><td style = \"text-align: right;\">1.54654e11</td><td style = \"text-align: right;\">3.86636e9</td></tr><tr><td class = \"rowNumber\" style = \"font-weight: bold; text-align: right;\">465</td><td style = \"text-align: right;\">2.9564e9</td><td style = \"text-align: right;\">2.22318e8</td><td style = \"text-align: right;\">1043.47</td><td style = \"text-align: right;\">0.00566974</td><td style = \"text-align: right;\">1.58763e9</td><td style = \"text-align: right;\">2401.64</td><td style = \"text-align: right;\">2601.77</td><td style = \"text-align: right;\">0.336404</td><td style = \"text-align: right;\">3.84963e12</td><td style = \"text-align: right;\">1.5467e11</td><td style = \"text-align: right;\">3.86674e9</td></tr><tr><td class = \"rowNumber\" style = \"font-weight: bold; text-align: right;\">466</td><td style = \"text-align: right;\">2.9664e9</td><td style = \"text-align: right;\">2.22679e8</td><td style = \"text-align: right;\">1043.46</td><td style = \"text-align: right;\">0.0056435</td><td style = \"text-align: right;\">1.58769e9</td><td style = \"text-align: right;\">2401.72</td><td style = \"text-align: right;\">2601.87</td><td style = \"text-align: right;\">0.337129</td><td style = \"text-align: right;\">3.85001e12</td><td style = \"text-align: right;\">1.54685e11</td><td style = \"text-align: right;\">3.86713e9</td></tr><tr><td class = \"rowNumber\" style = \"font-weight: bold; text-align: right;\">467</td><td style = \"text-align: right;\">2.9764e9</td><td style = \"text-align: right;\">2.23039e8</td><td style = \"text-align: right;\">1043.45</td><td style = \"text-align: right;\">0.00561742</td><td style = \"text-align: right;\">1.58776e9</td><td style = \"text-align: right;\">2401.81</td><td style = \"text-align: right;\">2601.96</td><td style = \"text-align: right;\">0.337852</td><td style = \"text-align: right;\">3.8504e12</td><td style = \"text-align: right;\">1.547e11</td><td style = \"text-align: right;\">3.86751e9</td></tr><tr><td class = \"rowNumber\" style = \"font-weight: bold; text-align: right;\">468</td><td style = \"text-align: right;\">2.9864e9</td><td style = \"text-align: right;\">2.23399e8</td><td style = \"text-align: right;\">1043.44</td><td style = \"text-align: right;\">0.00559152</td><td style = \"text-align: right;\">1.58782e9</td><td style = \"text-align: right;\">2401.9</td><td style = \"text-align: right;\">2602.06</td><td style = \"text-align: right;\">0.338571</td><td style = \"text-align: right;\">3.85078e12</td><td style = \"text-align: right;\">1.54716e11</td><td style = \"text-align: right;\">3.86789e9</td></tr><tr><td class = \"rowNumber\" style = \"font-weight: bold; text-align: right;\">469</td><td style = \"text-align: right;\">2.9964e9</td><td style = \"text-align: right;\">2.2376e8</td><td style = \"text-align: right;\">1043.43</td><td style = \"text-align: right;\">0.00556579</td><td style = \"text-align: right;\">1.58788e9</td><td style = \"text-align: right;\">2401.99</td><td style = \"text-align: right;\">2602.15</td><td style = \"text-align: right;\">0.339287</td><td style = \"text-align: right;\">3.85116e12</td><td style = \"text-align: right;\">1.54731e11</td><td style = \"text-align: right;\">3.86828e9</td></tr><tr><td class = \"rowNumber\" style = \"font-weight: bold; text-align: right;\">470</td><td style = \"text-align: right;\">3.0e9</td><td style = \"text-align: right;\">2.23889e8</td><td style = \"text-align: right;\">1043.43</td><td style = \"text-align: right;\">0.00555656</td><td style = \"text-align: right;\">1.5879e9</td><td style = \"text-align: right;\">2402.02</td><td style = \"text-align: right;\">2602.18</td><td style = \"text-align: right;\">0.339545</td><td style = \"text-align: right;\">3.8513e12</td><td style = \"text-align: right;\">1.54737e11</td><td style = \"text-align: right;\">3.86841e9</td></tr></tbody></table></div>"
            ],
            "text/latex": [
              "\\begin{tabular}{r|ccccccccc}\n",
              "\t& time & P+dP & T & eps\\_g & V & rho\\_m & rho\\_x & X\\_CO2 & \\\\\n",
              "\t\\hline\n",
              "\t& Float64 & Float64 & Float64 & Float64 & Float64 & Float64 & Float64 & Float64 & \\\\\n",
              "\t\\hline\n",
              "\t1 & 0.0 & 2.1582e8 & 1046.71 & 0.00558159 & 1.58489e9 & 2400.0 & 2600.0 & 0.346043 & $\\dots$ \\\\\n",
              "\t2 & 100000.0 & 2.15824e8 & 1046.71 & 0.00558131 & 1.58489e9 & 2400.0 & 2600.0 & 0.34605 & $\\dots$ \\\\\n",
              "\t3 & 7.62058e5 & 2.15848e8 & 1046.71 & 0.0055795 & 1.5849e9 & 2400.01 & 2600.01 & 0.346101 & $\\dots$ \\\\\n",
              "\t4 & 2.83015e6 & 2.15924e8 & 1046.71 & 0.00557383 & 1.58491e9 & 2400.03 & 2600.03 & 0.346259 & $\\dots$ \\\\\n",
              "\t5 & 4.89825e6 & 2.16e8 & 1046.71 & 0.00556818 & 1.58492e9 & 2400.04 & 2600.05 & 0.346418 & $\\dots$ \\\\\n",
              "\t6 & 6.96635e6 & 2.16077e8 & 1046.7 & 0.00556253 & 1.58493e9 & 2400.06 & 2600.07 & 0.346576 & $\\dots$ \\\\\n",
              "\t7 & 9.03444e6 & 2.16153e8 & 1046.7 & 0.00555688 & 1.58495e9 & 2400.08 & 2600.09 & 0.346733 & $\\dots$ \\\\\n",
              "\t8 & 1.33676e7 & 2.16312e8 & 1046.7 & 0.00554509 & 1.58497e9 & 2400.12 & 2600.13 & 0.347064 & $\\dots$ \\\\\n",
              "\t9 & 2.08499e7 & 2.16588e8 & 1046.69 & 0.0055248 & 1.58502e9 & 2400.18 & 2600.2 & 0.347633 & $\\dots$ \\\\\n",
              "\t10 & 2.83322e7 & 2.16863e8 & 1046.68 & 0.00550461 & 1.58506e9 & 2400.25 & 2600.27 & 0.3482 & $\\dots$ \\\\\n",
              "\t11 & 3.83322e7 & 2.17231e8 & 1046.67 & 0.00547779 & 1.58512e9 & 2400.34 & 2600.37 & 0.348956 & $\\dots$ \\\\\n",
              "\t12 & 4.83322e7 & 2.17599e8 & 1046.66 & 0.00545114 & 1.58518e9 & 2400.43 & 2600.46 & 0.349708 & $\\dots$ \\\\\n",
              "\t13 & 5.83322e7 & 2.17967e8 & 1046.65 & 0.00542468 & 1.58524e9 & 2400.52 & 2600.56 & 0.350457 & $\\dots$ \\\\\n",
              "\t14 & 6.83322e7 & 2.18335e8 & 1046.64 & 0.00539839 & 1.5853e9 & 2400.61 & 2600.66 & 0.351203 & $\\dots$ \\\\\n",
              "\t15 & 7.83322e7 & 2.18702e8 & 1046.63 & 0.00537227 & 1.58536e9 & 2400.69 & 2600.75 & 0.351946 & $\\dots$ \\\\\n",
              "\t16 & 8.83322e7 & 2.1907e8 & 1046.62 & 0.00534633 & 1.58542e9 & 2400.78 & 2600.85 & 0.352686 & $\\dots$ \\\\\n",
              "\t17 & 9.83322e7 & 2.19437e8 & 1046.61 & 0.00532056 & 1.58548e9 & 2400.87 & 2600.94 & 0.353422 & $\\dots$ \\\\\n",
              "\t18 & 1.08332e8 & 2.19804e8 & 1046.6 & 0.00529496 & 1.58554e9 & 2400.96 & 2601.04 & 0.354156 & $\\dots$ \\\\\n",
              "\t19 & 1.18332e8 & 2.20171e8 & 1046.59 & 0.00526953 & 1.5856e9 & 2401.05 & 2601.13 & 0.354886 & $\\dots$ \\\\\n",
              "\t20 & 1.28332e8 & 2.20538e8 & 1046.57 & 0.00524426 & 1.58566e9 & 2401.14 & 2601.23 & 0.355613 & $\\dots$ \\\\\n",
              "\t21 & 1.38332e8 & 2.20905e8 & 1046.56 & 0.00521917 & 1.58572e9 & 2401.22 & 2601.33 & 0.356337 & $\\dots$ \\\\\n",
              "\t22 & 1.48332e8 & 2.21271e8 & 1046.55 & 0.00519423 & 1.58578e9 & 2401.31 & 2601.42 & 0.357058 & $\\dots$ \\\\\n",
              "\t23 & 1.58332e8 & 2.21637e8 & 1046.54 & 0.00516946 & 1.58584e9 & 2401.4 & 2601.52 & 0.357775 & $\\dots$ \\\\\n",
              "\t24 & 1.68332e8 & 2.22003e8 & 1046.53 & 0.00514485 & 1.58591e9 & 2401.49 & 2601.61 & 0.35849 & $\\dots$ \\\\\n",
              "\t25 & 1.78332e8 & 2.22369e8 & 1046.52 & 0.0051204 & 1.58597e9 & 2401.58 & 2601.71 & 0.359201 & $\\dots$ \\\\\n",
              "\t26 & 1.88332e8 & 2.22735e8 & 1046.52 & 0.00509611 & 1.58603e9 & 2401.66 & 2601.8 & 0.359909 & $\\dots$ \\\\\n",
              "\t27 & 1.98332e8 & 2.23101e8 & 1046.51 & 0.00507198 & 1.58609e9 & 2401.75 & 2601.9 & 0.360614 & $\\dots$ \\\\\n",
              "\t28 & 2.08332e8 & 2.23466e8 & 1046.5 & 0.00504801 & 1.58616e9 & 2401.84 & 2601.99 & 0.361316 & $\\dots$ \\\\\n",
              "\t29 & 2.18332e8 & 2.23831e8 & 1046.49 & 0.00502419 & 1.58622e9 & 2401.93 & 2602.09 & 0.362015 & $\\dots$ \\\\\n",
              "\t30 & 2.28332e8 & 2.24196e8 & 1046.48 & 0.00500052 & 1.58628e9 & 2402.02 & 2602.18 & 0.362711 & $\\dots$ \\\\\n",
              "\t$\\dots$ & $\\dots$ & $\\dots$ & $\\dots$ & $\\dots$ & $\\dots$ & $\\dots$ & $\\dots$ & $\\dots$ &  \\\\\n",
              "\\end{tabular}\n"
            ],
            "text/plain": [
              "\u001b[1m470×11 DataFrame\u001b[0m\n",
              "\u001b[1m Row \u001b[0m│\u001b[1m time           \u001b[0m\u001b[1m P+dP      \u001b[0m\u001b[1m T       \u001b[0m\u001b[1m eps_g      \u001b[0m\u001b[1m V         \u001b[0m\u001b[1m rho_m   \u001b[0m\u001b[1m rho\u001b[0m ⋯\n",
              "     │\u001b[90m Float64        \u001b[0m\u001b[90m Float64   \u001b[0m\u001b[90m Float64 \u001b[0m\u001b[90m Float64    \u001b[0m\u001b[90m Float64   \u001b[0m\u001b[90m Float64 \u001b[0m\u001b[90m Flo\u001b[0m ⋯\n",
              "─────┼──────────────────────────────────────────────────────────────────────────\n",
              "   1 │      0.0        2.1582e8   1046.71  0.00558159  1.58489e9  2400.0   260 ⋯\n",
              "   2 │ 100000.0        2.15824e8  1046.71  0.00558131  1.58489e9  2400.0   260\n",
              "   3 │      7.62058e5  2.15848e8  1046.71  0.0055795   1.5849e9   2400.01  260\n",
              "   4 │      2.83015e6  2.15924e8  1046.71  0.00557383  1.58491e9  2400.03  260\n",
              "   5 │      4.89825e6  2.16e8     1046.71  0.00556818  1.58492e9  2400.04  260 ⋯\n",
              "   6 │      6.96635e6  2.16077e8  1046.7   0.00556253  1.58493e9  2400.06  260\n",
              "   7 │      9.03444e6  2.16153e8  1046.7   0.00555688  1.58495e9  2400.08  260\n",
              "   8 │      1.33676e7  2.16312e8  1046.7   0.00554509  1.58497e9  2400.12  260\n",
              "   9 │      2.08499e7  2.16588e8  1046.69  0.0055248   1.58502e9  2400.18  260 ⋯\n",
              "  10 │      2.83322e7  2.16863e8  1046.68  0.00550461  1.58506e9  2400.25  260\n",
              "  11 │      3.83322e7  2.17231e8  1046.67  0.00547779  1.58512e9  2400.34  260\n",
              "  ⋮  │       ⋮             ⋮         ⋮         ⋮           ⋮         ⋮         ⋱\n",
              " 461 │      2.9164e9   2.20875e8  1043.51  0.0057765   1.58739e9  2401.29  260\n",
              " 462 │      2.9264e9   2.21236e8  1043.5   0.00574954  1.58745e9  2401.38  260 ⋯\n",
              " 463 │      2.9364e9   2.21597e8  1043.49  0.00572277  1.58751e9  2401.46  260\n",
              " 464 │      2.9464e9   2.21957e8  1043.48  0.00569617  1.58757e9  2401.55  260\n",
              " 465 │      2.9564e9   2.22318e8  1043.47  0.00566974  1.58763e9  2401.64  260\n",
              " 466 │      2.9664e9   2.22679e8  1043.46  0.0056435   1.58769e9  2401.72  260 ⋯\n",
              " 467 │      2.9764e9   2.23039e8  1043.45  0.00561742  1.58776e9  2401.81  260\n",
              " 468 │      2.9864e9   2.23399e8  1043.44  0.00559152  1.58782e9  2401.9   260\n",
              " 469 │      2.9964e9   2.2376e8   1043.43  0.00556579  1.58788e9  2401.99  260\n",
              " 470 │      3.0e9      2.23889e8  1043.43  0.00555656  1.5879e9   2402.02  260 ⋯\n",
              "\u001b[36m                                                  5 columns and 449 rows omitted\u001b[0m"
            ]
          },
          "execution_count": 5,
          "metadata": {},
          "output_type": "execute_result"
        }
      ],
      "source": [
        "composition = Silicic()\n",
        "end_time = 3e9\n",
        "log_volume_km3 = 0.2\n",
        "InitialConc_H2O = 0.04\n",
        "InitialConc_CO2 = 0.001\n",
        "log_vfr = -3.3\n",
        "depth = 8e3\n",
        "dataframe = chamber(composition, end_time, log_volume_km3, InitialConc_H2O, InitialConc_CO2, log_vfr, depth)"
      ]
    },
    {
      "attachments": {},
      "cell_type": "markdown",
      "metadata": {
        "id": "NYUoypFPnGw5"
      },
      "source": [
        "### Example 2: Mafic case"
      ]
    },
    {
      "cell_type": "code",
      "execution_count": null,
      "metadata": {
        "id": "b41ivd6QnGX5"
      },
      "outputs": [],
      "source": [
        "composition = Mafic()\n",
        "end_time = 3e9\n",
        "log_volume_km3 = 0.2\n",
        "InitialConc_H2O = 0.01\n",
        "InitialConc_CO2 = 0.001\n",
        "log_vfr = -3.3\n",
        "depth = 8e3\n",
        "dataframe = chamber(composition, end_time, log_volume_km3, InitialConc_H2O, InitialConc_CO2, log_vfr, depth)"
      ]
    },
    {
      "attachments": {},
      "cell_type": "markdown",
      "metadata": {
        "id": "KzRfokkwmOCS"
      },
      "source": [
        "### Example 3: Silicic saturated case"
      ]
    },
    {
      "cell_type": "code",
      "execution_count": null,
      "metadata": {
        "id": "AsGj6rAqlfGC"
      },
      "outputs": [],
      "source": [
        "composition = Silicic()\n",
        "end_time = 3e9\n",
        "log_volume_km3 = 0.2\n",
        "InitialConc_H2O = 0.05\n",
        "InitialConc_CO2 = 0.0001\n",
        "log_vfr = -3.3\n",
        "depth = 8e3\n",
        "dataframe = chamber(composition, end_time, log_volume_km3, InitialConc_H2O, InitialConc_CO2, log_vfr, depth)"
      ]
    },
    {
      "attachments": {},
      "cell_type": "markdown",
      "metadata": {
        "id": "I0AtxdyMnNAE"
      },
      "source": [
        "### Example 4: Mafic saturated case"
      ]
    },
    {
      "cell_type": "code",
      "execution_count": null,
      "metadata": {
        "id": "vywD9R2FnfLk"
      },
      "outputs": [],
      "source": [
        "composition = Mafic()\n",
        "end_time = 6e9\n",
        "log_volume_km3 = 0.2\n",
        "InitialConc_H2O = 0.01\n",
        "InitialConc_CO2 = 0.0008\n",
        "log_vfr = -3.3\n",
        "depth = 8e3\n",
        "dataframe = chamber(composition, end_time, log_volume_km3, InitialConc_H2O, InitialConc_CO2, log_vfr, depth)"
      ]
    }
  ],
  "metadata": {
    "colab": {
      "provenance": []
    },
    "gpuClass": "standard",
    "kernelspec": {
      "display_name": "Julia",
      "language": "julia",
      "name": "julia"
    },
    "language_info": {
      "file_extension": ".jl",
      "mimetype": "application/julia",
      "name": "julia"
    }
  },
  "nbformat": 4,
  "nbformat_minor": 0
}
